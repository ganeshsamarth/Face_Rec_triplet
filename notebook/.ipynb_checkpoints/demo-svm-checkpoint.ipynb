{
 "cells": [
  {
   "cell_type": "code",
   "execution_count": 62,
   "metadata": {
    "ExecuteTime": {
     "end_time": "2017-12-27T10:38:16.861243Z",
     "start_time": "2017-12-27T10:38:16.373198Z"
    }
   },
   "outputs": [],
   "source": [
    "import numpy as np\n",
    "import os\n",
    "import matplotlib.pyplot as plt\n",
    "import cv2\n",
    "from sklearn.svm import SVC\n",
    "from sklearn.preprocessing import LabelEncoder\n",
    "from imageio import imread\n",
    "from skimage.transform import resize\n",
    "from keras.models import load_model\n",
    "\n",
    "%matplotlib inline"
   ]
  },
  {
   "cell_type": "code",
   "execution_count": 63,
   "metadata": {
    "ExecuteTime": {
     "end_time": "2017-12-27T10:38:16.864905Z",
     "start_time": "2017-12-27T10:38:16.862709Z"
    }
   },
   "outputs": [],
   "source": [
    "cascade_path = '../model/cv2/haarcascade_frontalface_alt2.xml'"
   ]
  },
  {
   "cell_type": "code",
   "execution_count": 64,
   "metadata": {
    "ExecuteTime": {
     "end_time": "2017-12-27T10:38:16.868993Z",
     "start_time": "2017-12-27T10:38:16.866545Z"
    }
   },
   "outputs": [],
   "source": [
    "image_dir_basepath = '/home/ganesh/Downloads/IMFDB_182'\n",
    "names = os.listdir(image_dir_basepath)\n",
    "image_size = 160"
   ]
  },
  {
   "cell_type": "code",
   "execution_count": 65,
   "metadata": {
    "ExecuteTime": {
     "end_time": "2017-12-27T10:38:22.212170Z",
     "start_time": "2017-12-27T10:38:16.870164Z"
    },
    "scrolled": true
   },
   "outputs": [
    {
     "name": "stderr",
     "output_type": "stream",
     "text": [
      "/home/ganesh/activate/lib/python3.6/site-packages/keras/engine/saving.py:310: UserWarning: No training configuration found in save file: the model was *not* compiled. Compile it manually.\n",
      "  warnings.warn('No training configuration found in save file: '\n"
     ]
    }
   ],
   "source": [
    "model_path = '/home/ganesh/keras-facenet/model/keras/facenet_keras.h5'\n",
    "model = load_model(model_path)"
   ]
  },
  {
   "cell_type": "code",
   "execution_count": 66,
   "metadata": {
    "ExecuteTime": {
     "end_time": "2017-12-27T10:38:22.237162Z",
     "start_time": "2017-12-27T10:38:22.213915Z"
    }
   },
   "outputs": [],
   "source": [
    "def prewhiten(x):\n",
    "    if x.ndim == 4:\n",
    "        axis = (1, 2, 3)\n",
    "        size = x[0].size\n",
    "    elif x.ndim == 3:\n",
    "        axis = (0, 1, 2)\n",
    "        size = x.size\n",
    "    else:\n",
    "        raise ValueError('Dimension should be 3 or 4')\n",
    "\n",
    "    mean = np.mean(x, axis=axis, keepdims=True)\n",
    "    std = np.std(x, axis=axis, keepdims=True)\n",
    "    std_adj = np.maximum(std, 1.0/np.sqrt(size))\n",
    "    y = (x - mean) / std_adj\n",
    "    return y\n",
    "\n",
    "def l2_normalize(x, axis=-1, epsilon=1e-10):\n",
    "    output = x / np.sqrt(np.maximum(np.sum(np.square(x), axis=axis, keepdims=True), epsilon))\n",
    "    return output"
   ]
  },
  {
   "cell_type": "code",
   "execution_count": 67,
   "metadata": {
    "ExecuteTime": {
     "end_time": "2017-12-27T10:38:22.254791Z",
     "start_time": "2017-12-27T10:38:22.238884Z"
    }
   },
   "outputs": [],
   "source": [
    "def load_and_align_images(filepaths, margin):\n",
    "    cascade = cv2.CascadeClassifier(cascade_path)\n",
    "    \n",
    "    aligned_images = []\n",
    "    for filepath in filepaths:\n",
    "        img = cv2.imread(filepath)\n",
    "        img = cv2.resize(img,(160,160))\n",
    "        \n",
    "        '''\n",
    "        faces = cascade.detectMultiScale(img,\n",
    "                                         scaleFactor=1.1,\n",
    "                                         minNeighbors=3)\n",
    "        (x, y, w, h) = faces[0]\n",
    "        cropped = img[y-margin//2:y+h+margin//2,\n",
    "                      x-margin//2:x+w+margin//2, :]\n",
    "        aligned = resize(cropped, (image_size, image_size), mode='reflect')\n",
    "        aligned_images.append(aligned)\n",
    "        '''\n",
    "        #print(np.array(img).shape)\n",
    "        aligned_images.append(np.array(img))\n",
    "            \n",
    "    return np.array(aligned_images)"
   ]
  },
  {
   "cell_type": "code",
   "execution_count": 68,
   "metadata": {
    "ExecuteTime": {
     "end_time": "2017-12-27T10:38:22.264689Z",
     "start_time": "2017-12-27T10:38:22.256788Z"
    }
   },
   "outputs": [],
   "source": [
    "def calc_embs(filepaths, margin=10, batch_size=1):\n",
    "    aligned_images = prewhiten(load_and_align_images(filepaths, margin))\n",
    "    pd = []\n",
    "    for start in range(0, len(aligned_images), batch_size):\n",
    "        pd.append(model.predict_on_batch(aligned_images[start:start+batch_size]))\n",
    "    embs = l2_normalize(np.concatenate(pd))\n",
    "\n",
    "    return embs"
   ]
  },
  {
   "cell_type": "code",
   "execution_count": 69,
   "metadata": {
    "ExecuteTime": {
     "end_time": "2017-12-27T10:38:22.278301Z",
     "start_time": "2017-12-27T10:38:22.266089Z"
    }
   },
   "outputs": [],
   "source": [
    "def train(dir_basepath, names, max_num_img=100):\n",
    "    labels = []\n",
    "    embs = []\n",
    "    for name in names:\n",
    "        dirpath = os.path.join(dir_basepath, name)\n",
    "        filepaths = [os.path.join(dirpath, f) for f in os.listdir(dirpath)][:max_num_img]\n",
    "        embs_ = calc_embs(filepaths)    \n",
    "        labels.extend([name] * len(embs_))\n",
    "        embs.append(embs_)\n",
    "        \n",
    "    embs = np.concatenate(embs)\n",
    "    le = LabelEncoder().fit(labels)\n",
    "    y = le.transform(labels)\n",
    "    clf = SVC(kernel='linear', probability=True).fit(embs, y)\n",
    "    return le, clf"
   ]
  },
  {
   "cell_type": "code",
   "execution_count": 70,
   "metadata": {
    "ExecuteTime": {
     "end_time": "2017-12-27T10:38:22.283255Z",
     "start_time": "2017-12-27T10:38:22.279821Z"
    }
   },
   "outputs": [],
   "source": [
    "def infer(le, clf, filepaths):\n",
    "    embs = calc_embs(filepaths)\n",
    "    pred = le.inverse_transform(clf.predict(embs))\n",
    "    return pred"
   ]
  },
  {
   "cell_type": "code",
   "execution_count": 71,
   "metadata": {
    "ExecuteTime": {
     "end_time": "2017-12-27T10:38:24.290483Z",
     "start_time": "2017-12-27T10:38:22.284484Z"
    },
    "scrolled": true
   },
   "outputs": [],
   "source": [
    "le, clf = train(image_dir_basepath, names)"
   ]
  },
  {
   "cell_type": "code",
   "execution_count": 76,
   "metadata": {
    "ExecuteTime": {
     "end_time": "2017-12-27T10:38:24.294707Z",
     "start_time": "2017-12-27T10:38:24.291751Z"
    }
   },
   "outputs": [
    {
     "name": "stdout",
     "output_type": "stream",
     "text": [
      "['VinodKhanna' 'VinodKhanna' 'Mallikarjunrao' 'VinodKhanna' 'VinodKhanna'\n",
      " 'VinodKhanna' 'AamairKhan' 'VinodKhanna' 'VinodKhanna' 'VinodKhanna']\n",
      "VinodKhanna:0.8\n",
      "['VinodKhanna' 'VinodKhanna' 'Mallikarjunrao' 'VinodKhanna' 'VinodKhanna'\n",
      " 'VinodKhanna' 'AamairKhan' 'VinodKhanna' 'VinodKhanna' 'VinodKhanna']\n",
      "TanikellaBharani:0.0\n",
      "['VinodKhanna' 'VinodKhanna' 'Mallikarjunrao' 'VinodKhanna' 'VinodKhanna'\n",
      " 'VinodKhanna' 'AamairKhan' 'VinodKhanna' 'VinodKhanna' 'VinodKhanna']\n",
      "Madhu:0.0\n",
      "['VinodKhanna' 'VinodKhanna' 'Mallikarjunrao' 'VinodKhanna' 'VinodKhanna'\n",
      " 'VinodKhanna' 'AamairKhan' 'VinodKhanna' 'VinodKhanna' 'VinodKhanna']\n",
      "AkshayKumar:0.0\n",
      "['VinodKhanna' 'VinodKhanna' 'Mallikarjunrao' 'VinodKhanna' 'VinodKhanna'\n",
      " 'VinodKhanna' 'AamairKhan' 'VinodKhanna' 'VinodKhanna' 'VinodKhanna']\n",
      "NedumudiVenu:0.0\n",
      "['VinodKhanna' 'VinodKhanna' 'Mallikarjunrao' 'VinodKhanna' 'VinodKhanna'\n",
      " 'VinodKhanna' 'AamairKhan' 'VinodKhanna' 'VinodKhanna' 'VinodKhanna']\n",
      "Madhavan:0.0\n",
      "['VinodKhanna' 'VinodKhanna' 'Mallikarjunrao' 'VinodKhanna' 'VinodKhanna'\n",
      " 'VinodKhanna' 'AamairKhan' 'VinodKhanna' 'VinodKhanna' 'VinodKhanna']\n",
      "BomanIrani:0.0\n",
      "['VinodKhanna' 'VinodKhanna' 'Mallikarjunrao' 'VinodKhanna' 'VinodKhanna'\n",
      " 'VinodKhanna' 'AamairKhan' 'VinodKhanna' 'VinodKhanna' 'VinodKhanna']\n",
      "SureshGopi:0.0\n",
      "['VinodKhanna' 'VinodKhanna' 'Mallikarjunrao' 'VinodKhanna' 'VinodKhanna'\n",
      " 'VinodKhanna' 'AamairKhan' 'VinodKhanna' 'VinodKhanna' 'VinodKhanna']\n",
      "SVR:0.0\n",
      "['VinodKhanna' 'VinodKhanna' 'Mallikarjunrao' 'VinodKhanna' 'VinodKhanna'\n",
      " 'VinodKhanna' 'AamairKhan' 'VinodKhanna' 'VinodKhanna' 'VinodKhanna']\n",
      "AmitabhBachchan:0.0\n",
      "['VinodKhanna' 'VinodKhanna' 'Mallikarjunrao' 'VinodKhanna' 'VinodKhanna'\n",
      " 'VinodKhanna' 'AamairKhan' 'VinodKhanna' 'VinodKhanna' 'VinodKhanna']\n",
      "Bharathi:0.0\n",
      "['VinodKhanna' 'VinodKhanna' 'Mallikarjunrao' 'VinodKhanna' 'VinodKhanna'\n",
      " 'VinodKhanna' 'AamairKhan' 'VinodKhanna' 'VinodKhanna' 'VinodKhanna']\n",
      "Innocent:0.0\n",
      "['VinodKhanna' 'VinodKhanna' 'Mallikarjunrao' 'VinodKhanna' 'VinodKhanna'\n",
      " 'VinodKhanna' 'AamairKhan' 'VinodKhanna' 'VinodKhanna' 'VinodKhanna']\n",
      "Ramaprabha:0.0\n",
      "['VinodKhanna' 'VinodKhanna' 'Mallikarjunrao' 'VinodKhanna' 'VinodKhanna'\n",
      " 'VinodKhanna' 'AamairKhan' 'VinodKhanna' 'VinodKhanna' 'VinodKhanna']\n",
      "Tenniskrishna:0.0\n",
      "['VinodKhanna' 'VinodKhanna' 'Mallikarjunrao' 'VinodKhanna' 'VinodKhanna'\n",
      " 'VinodKhanna' 'AamairKhan' 'VinodKhanna' 'VinodKhanna' 'VinodKhanna']\n",
      "Avinash:0.0\n",
      "['VinodKhanna' 'VinodKhanna' 'Mallikarjunrao' 'VinodKhanna' 'VinodKhanna'\n",
      " 'VinodKhanna' 'AamairKhan' 'VinodKhanna' 'VinodKhanna' 'VinodKhanna']\n",
      "AmrishPuri:0.0\n",
      "['VinodKhanna' 'VinodKhanna' 'Mallikarjunrao' 'VinodKhanna' 'VinodKhanna'\n",
      " 'VinodKhanna' 'AamairKhan' 'VinodKhanna' 'VinodKhanna' 'VinodKhanna']\n",
      "KavyaMadhavan:0.0\n",
      "['VinodKhanna' 'VinodKhanna' 'Mallikarjunrao' 'VinodKhanna' 'VinodKhanna'\n",
      " 'VinodKhanna' 'AamairKhan' 'VinodKhanna' 'VinodKhanna' 'VinodKhanna']\n",
      "Aarthi:0.0\n",
      "['VinodKhanna' 'VinodKhanna' 'Mallikarjunrao' 'VinodKhanna' 'VinodKhanna'\n",
      " 'VinodKhanna' 'AamairKhan' 'VinodKhanna' 'VinodKhanna' 'VinodKhanna']\n",
      "ANR:0.0\n",
      "['VinodKhanna' 'VinodKhanna' 'Mallikarjunrao' 'VinodKhanna' 'VinodKhanna'\n",
      " 'VinodKhanna' 'AamairKhan' 'VinodKhanna' 'VinodKhanna' 'VinodKhanna']\n",
      "Venkatesh:0.0\n",
      "['VinodKhanna' 'VinodKhanna' 'Mallikarjunrao' 'VinodKhanna' 'VinodKhanna'\n",
      " 'VinodKhanna' 'AamairKhan' 'VinodKhanna' 'VinodKhanna' 'VinodKhanna']\n",
      "Loknath:0.0\n",
      "['VinodKhanna' 'VinodKhanna' 'Mallikarjunrao' 'VinodKhanna' 'VinodKhanna'\n",
      " 'VinodKhanna' 'AamairKhan' 'VinodKhanna' 'VinodKhanna' 'VinodKhanna']\n",
      "Dwarkish:0.0\n",
      "['VinodKhanna' 'VinodKhanna' 'Mallikarjunrao' 'VinodKhanna' 'VinodKhanna'\n",
      " 'VinodKhanna' 'AamairKhan' 'VinodKhanna' 'VinodKhanna' 'VinodKhanna']\n",
      "K.Viswanath:0.0\n",
      "['VinodKhanna' 'VinodKhanna' 'Mallikarjunrao' 'VinodKhanna' 'VinodKhanna'\n",
      " 'VinodKhanna' 'AamairKhan' 'VinodKhanna' 'VinodKhanna' 'VinodKhanna']\n",
      "Annapoorna:0.0\n",
      "['VinodKhanna' 'VinodKhanna' 'Mallikarjunrao' 'VinodKhanna' 'VinodKhanna'\n",
      " 'VinodKhanna' 'AamairKhan' 'VinodKhanna' 'VinodKhanna' 'VinodKhanna']\n",
      "KatrinaKaif:0.0\n",
      "['VinodKhanna' 'VinodKhanna' 'Mallikarjunrao' 'VinodKhanna' 'VinodKhanna'\n",
      " 'VinodKhanna' 'AamairKhan' 'VinodKhanna' 'VinodKhanna' 'VinodKhanna']\n",
      "Prema:0.0\n",
      "['VinodKhanna' 'VinodKhanna' 'Mallikarjunrao' 'VinodKhanna' 'VinodKhanna'\n",
      " 'VinodKhanna' 'AamairKhan' 'VinodKhanna' 'VinodKhanna' 'VinodKhanna']\n",
      "PrakashRaj:0.0\n",
      "['VinodKhanna' 'VinodKhanna' 'Mallikarjunrao' 'VinodKhanna' 'VinodKhanna'\n",
      " 'VinodKhanna' 'AamairKhan' 'VinodKhanna' 'VinodKhanna' 'VinodKhanna']\n",
      "RameshArvind:0.0\n",
      "['VinodKhanna' 'VinodKhanna' 'Mallikarjunrao' 'VinodKhanna' 'VinodKhanna'\n",
      " 'VinodKhanna' 'AamairKhan' 'VinodKhanna' 'VinodKhanna' 'VinodKhanna']\n",
      "BabuMohan:0.0\n",
      "['VinodKhanna' 'VinodKhanna' 'Mallikarjunrao' 'VinodKhanna' 'VinodKhanna'\n",
      " 'VinodKhanna' 'AamairKhan' 'VinodKhanna' 'VinodKhanna' 'VinodKhanna']\n",
      "PareshRaval:0.0\n",
      "['VinodKhanna' 'VinodKhanna' 'Mallikarjunrao' 'VinodKhanna' 'VinodKhanna'\n",
      " 'VinodKhanna' 'AamairKhan' 'VinodKhanna' 'VinodKhanna' 'VinodKhanna']\n",
      "Pavithralokesh:0.0\n",
      "['VinodKhanna' 'VinodKhanna' 'Mallikarjunrao' 'VinodKhanna' 'VinodKhanna'\n",
      " 'VinodKhanna' 'AamairKhan' 'VinodKhanna' 'VinodKhanna' 'VinodKhanna']\n",
      "Siddique:0.0\n",
      "['VinodKhanna' 'VinodKhanna' 'Mallikarjunrao' 'VinodKhanna' 'VinodKhanna'\n",
      " 'VinodKhanna' 'AamairKhan' 'VinodKhanna' 'VinodKhanna' 'VinodKhanna']\n",
      "SharmilaTagore:0.0\n",
      "['VinodKhanna' 'VinodKhanna' 'Mallikarjunrao' 'VinodKhanna' 'VinodKhanna'\n",
      " 'VinodKhanna' 'AamairKhan' 'VinodKhanna' 'VinodKhanna' 'VinodKhanna']\n",
      "AnilKapoor:0.0\n",
      "['VinodKhanna' 'VinodKhanna' 'Mallikarjunrao' 'VinodKhanna' 'VinodKhanna'\n",
      " 'VinodKhanna' 'AamairKhan' 'VinodKhanna' 'VinodKhanna' 'VinodKhanna']\n",
      "Thilakan:0.0\n",
      "['VinodKhanna' 'VinodKhanna' 'Mallikarjunrao' 'VinodKhanna' 'VinodKhanna'\n",
      " 'VinodKhanna' 'AamairKhan' 'VinodKhanna' 'VinodKhanna' 'VinodKhanna']\n",
      "Shobana:0.0\n",
      "['VinodKhanna' 'VinodKhanna' 'Mallikarjunrao' 'VinodKhanna' 'VinodKhanna'\n",
      " 'VinodKhanna' 'AamairKhan' 'VinodKhanna' 'VinodKhanna' 'VinodKhanna']\n",
      "SalmanKhan:0.0\n",
      "['VinodKhanna' 'VinodKhanna' 'Mallikarjunrao' 'VinodKhanna' 'VinodKhanna'\n",
      " 'VinodKhanna' 'AamairKhan' 'VinodKhanna' 'VinodKhanna' 'VinodKhanna']\n",
      "HrithikRoshan:0.0\n",
      "['VinodKhanna' 'VinodKhanna' 'Mallikarjunrao' 'VinodKhanna' 'VinodKhanna'\n",
      " 'VinodKhanna' 'AamairKhan' 'VinodKhanna' 'VinodKhanna' 'VinodKhanna']\n",
      "Jamuna:0.0\n",
      "['VinodKhanna' 'VinodKhanna' 'Mallikarjunrao' 'VinodKhanna' 'VinodKhanna'\n",
      " 'VinodKhanna' 'AamairKhan' 'VinodKhanna' 'VinodKhanna' 'VinodKhanna']\n",
      "SharukhKhan:0.0\n",
      "['VinodKhanna' 'VinodKhanna' 'Mallikarjunrao' 'VinodKhanna' 'VinodKhanna'\n",
      " 'VinodKhanna' 'AamairKhan' 'VinodKhanna' 'VinodKhanna' 'VinodKhanna']\n",
      "Cochinhaneefa:0.0\n",
      "['VinodKhanna' 'VinodKhanna' 'Mallikarjunrao' 'VinodKhanna' 'VinodKhanna'\n",
      " 'VinodKhanna' 'AamairKhan' 'VinodKhanna' 'VinodKhanna' 'VinodKhanna']\n",
      "RamyaKrishna:0.0\n",
      "['VinodKhanna' 'VinodKhanna' 'Mallikarjunrao' 'VinodKhanna' 'VinodKhanna'\n",
      " 'VinodKhanna' 'AamairKhan' 'VinodKhanna' 'VinodKhanna' 'VinodKhanna']\n",
      "Brahmanandam:0.0\n",
      "['VinodKhanna' 'VinodKhanna' 'Mallikarjunrao' 'VinodKhanna' 'VinodKhanna'\n",
      " 'VinodKhanna' 'AamairKhan' 'VinodKhanna' 'VinodKhanna' 'VinodKhanna']\n",
      "JosePrakash:0.0\n",
      "['VinodKhanna' 'VinodKhanna' 'Mallikarjunrao' 'VinodKhanna' 'VinodKhanna'\n",
      " 'VinodKhanna' 'AamairKhan' 'VinodKhanna' 'VinodKhanna' 'VinodKhanna']\n",
      "Mammukoya:0.0\n",
      "['VinodKhanna' 'VinodKhanna' 'Mallikarjunrao' 'VinodKhanna' 'VinodKhanna'\n",
      " 'VinodKhanna' 'AamairKhan' 'VinodKhanna' 'VinodKhanna' 'VinodKhanna']\n",
      "FaridaJalal:0.0\n",
      "['VinodKhanna' 'VinodKhanna' 'Mallikarjunrao' 'VinodKhanna' 'VinodKhanna'\n",
      " 'VinodKhanna' 'AamairKhan' 'VinodKhanna' 'VinodKhanna' 'VinodKhanna']\n",
      "Mohanlal:0.0\n",
      "['VinodKhanna' 'VinodKhanna' 'Mallikarjunrao' 'VinodKhanna' 'VinodKhanna'\n",
      " 'VinodKhanna' 'AamairKhan' 'VinodKhanna' 'VinodKhanna' 'VinodKhanna']\n",
      "Soundarya:0.0\n",
      "['VinodKhanna' 'VinodKhanna' 'Mallikarjunrao' 'VinodKhanna' 'VinodKhanna'\n",
      " 'VinodKhanna' 'AamairKhan' 'VinodKhanna' 'VinodKhanna' 'VinodKhanna']\n",
      "Rameshbhatt:0.0\n",
      "['VinodKhanna' 'VinodKhanna' 'Mallikarjunrao' 'VinodKhanna' 'VinodKhanna'\n",
      " 'VinodKhanna' 'AamairKhan' 'VinodKhanna' 'VinodKhanna' 'VinodKhanna']\n",
      "Simran:0.0\n",
      "['VinodKhanna' 'VinodKhanna' 'Mallikarjunrao' 'VinodKhanna' 'VinodKhanna'\n",
      " 'VinodKhanna' 'AamairKhan' 'VinodKhanna' 'VinodKhanna' 'VinodKhanna']\n",
      "Kajol:0.0\n",
      "['VinodKhanna' 'VinodKhanna' 'Mallikarjunrao' 'VinodKhanna' 'VinodKhanna'\n",
      " 'VinodKhanna' 'AamairKhan' 'VinodKhanna' 'VinodKhanna' 'VinodKhanna']\n",
      "Trisha:0.0\n"
     ]
    },
    {
     "name": "stdout",
     "output_type": "stream",
     "text": [
      "['VinodKhanna' 'VinodKhanna' 'Mallikarjunrao' 'VinodKhanna' 'VinodKhanna'\n",
      " 'VinodKhanna' 'AamairKhan' 'VinodKhanna' 'VinodKhanna' 'VinodKhanna']\n",
      "Nagarjuna:0.0\n",
      "['VinodKhanna' 'VinodKhanna' 'Mallikarjunrao' 'VinodKhanna' 'VinodKhanna'\n",
      " 'VinodKhanna' 'AamairKhan' 'VinodKhanna' 'VinodKhanna' 'VinodKhanna']\n",
      "Lakshmidevi:0.0\n",
      "['VinodKhanna' 'VinodKhanna' 'Mallikarjunrao' 'VinodKhanna' 'VinodKhanna'\n",
      " 'VinodKhanna' 'AamairKhan' 'VinodKhanna' 'VinodKhanna' 'VinodKhanna']\n",
      "Jayaprakash:0.0\n",
      "['VinodKhanna' 'VinodKhanna' 'Mallikarjunrao' 'VinodKhanna' 'VinodKhanna'\n",
      " 'VinodKhanna' 'AamairKhan' 'VinodKhanna' 'VinodKhanna' 'VinodKhanna']\n",
      "Vishnuvardhan:0.0\n",
      "['VinodKhanna' 'VinodKhanna' 'Mallikarjunrao' 'VinodKhanna' 'VinodKhanna'\n",
      " 'VinodKhanna' 'AamairKhan' 'VinodKhanna' 'VinodKhanna' 'VinodKhanna']\n",
      "Mamootty:0.0\n",
      "['VinodKhanna' 'VinodKhanna' 'Mallikarjunrao' 'VinodKhanna' 'VinodKhanna'\n",
      " 'VinodKhanna' 'AamairKhan' 'VinodKhanna' 'VinodKhanna' 'VinodKhanna']\n",
      "Srihari:0.0\n",
      "['VinodKhanna' 'VinodKhanna' 'Mallikarjunrao' 'VinodKhanna' 'VinodKhanna'\n",
      " 'VinodKhanna' 'AamairKhan' 'VinodKhanna' 'VinodKhanna' 'VinodKhanna']\n",
      "SoumithraChatterjee:0.0\n",
      "['VinodKhanna' 'VinodKhanna' 'Mallikarjunrao' 'VinodKhanna' 'VinodKhanna'\n",
      " 'VinodKhanna' 'AamairKhan' 'VinodKhanna' 'VinodKhanna' 'VinodKhanna']\n",
      "Shashikumar:0.0\n",
      "['VinodKhanna' 'VinodKhanna' 'Mallikarjunrao' 'VinodKhanna' 'VinodKhanna'\n",
      " 'VinodKhanna' 'AamairKhan' 'VinodKhanna' 'VinodKhanna' 'VinodKhanna']\n",
      "RajeshKhanna:0.0\n",
      "['VinodKhanna' 'VinodKhanna' 'Mallikarjunrao' 'VinodKhanna' 'VinodKhanna'\n",
      " 'VinodKhanna' 'AamairKhan' 'VinodKhanna' 'VinodKhanna' 'VinodKhanna']\n",
      "Umashri:0.0\n",
      "['VinodKhanna' 'VinodKhanna' 'Mallikarjunrao' 'VinodKhanna' 'VinodKhanna'\n",
      " 'VinodKhanna' 'AamairKhan' 'VinodKhanna' 'VinodKhanna' 'VinodKhanna']\n",
      "Vajramuni:0.0\n",
      "['VinodKhanna' 'VinodKhanna' 'Mallikarjunrao' 'VinodKhanna' 'VinodKhanna'\n",
      " 'VinodKhanna' 'AamairKhan' 'VinodKhanna' 'VinodKhanna' 'VinodKhanna']\n",
      "Mallikarjunrao:0.1\n",
      "['VinodKhanna' 'VinodKhanna' 'Mallikarjunrao' 'VinodKhanna' 'VinodKhanna'\n",
      " 'VinodKhanna' 'AamairKhan' 'VinodKhanna' 'VinodKhanna' 'VinodKhanna']\n",
      "RishiKapoor:0.0\n",
      "['VinodKhanna' 'VinodKhanna' 'Mallikarjunrao' 'VinodKhanna' 'VinodKhanna'\n",
      " 'VinodKhanna' 'AamairKhan' 'VinodKhanna' 'VinodKhanna' 'VinodKhanna']\n",
      "Rimisen:0.0\n",
      "['VinodKhanna' 'VinodKhanna' 'Mallikarjunrao' 'VinodKhanna' 'VinodKhanna'\n",
      " 'VinodKhanna' 'AamairKhan' 'VinodKhanna' 'VinodKhanna' 'VinodKhanna']\n",
      "AamairKhan:0.1\n",
      "['VinodKhanna' 'VinodKhanna' 'Mallikarjunrao' 'VinodKhanna' 'VinodKhanna'\n",
      " 'VinodKhanna' 'AamairKhan' 'VinodKhanna' 'VinodKhanna' 'VinodKhanna']\n",
      "PremaNazir:0.0\n",
      "['VinodKhanna' 'VinodKhanna' 'Mallikarjunrao' 'VinodKhanna' 'VinodKhanna'\n",
      " 'VinodKhanna' 'AamairKhan' 'VinodKhanna' 'VinodKhanna' 'VinodKhanna']\n",
      "M.S.Narayana:0.0\n",
      "['VinodKhanna' 'VinodKhanna' 'Mallikarjunrao' 'VinodKhanna' 'VinodKhanna'\n",
      " 'VinodKhanna' 'AamairKhan' 'VinodKhanna' 'VinodKhanna' 'VinodKhanna']\n",
      "Ambresh:0.0\n",
      "['VinodKhanna' 'VinodKhanna' 'Mallikarjunrao' 'VinodKhanna' 'VinodKhanna'\n",
      " 'VinodKhanna' 'AamairKhan' 'VinodKhanna' 'VinodKhanna' 'VinodKhanna']\n",
      "ShilpaShetty:0.0\n"
     ]
    },
    {
     "ename": "KeyboardInterrupt",
     "evalue": "",
     "output_type": "error",
     "traceback": [
      "\u001b[0;31m---------------------------------------------------------------------------\u001b[0m",
      "\u001b[0;31mKeyboardInterrupt\u001b[0m                         Traceback (most recent call last)",
      "\u001b[0;32m<ipython-input-76-7d32a8526e00>\u001b[0m in \u001b[0;36m<module>\u001b[0;34m\u001b[0m\n\u001b[1;32m      1\u001b[0m \u001b[0;32mfor\u001b[0m \u001b[0mnames\u001b[0m \u001b[0;32min\u001b[0m \u001b[0mos\u001b[0m\u001b[0;34m.\u001b[0m\u001b[0mlistdir\u001b[0m\u001b[0;34m(\u001b[0m\u001b[0mimage_dir_basepath\u001b[0m\u001b[0;34m)\u001b[0m\u001b[0;34m:\u001b[0m\u001b[0;34m\u001b[0m\u001b[0;34m\u001b[0m\u001b[0m\n\u001b[1;32m      2\u001b[0m     \u001b[0mtest_file_paths\u001b[0m \u001b[0;34m=\u001b[0m \u001b[0;34m[\u001b[0m\u001b[0mos\u001b[0m\u001b[0;34m.\u001b[0m\u001b[0mpath\u001b[0m\u001b[0;34m.\u001b[0m\u001b[0mjoin\u001b[0m\u001b[0;34m(\u001b[0m\u001b[0mimage_dir_basepath\u001b[0m\u001b[0;34m+\u001b[0m\u001b[0;34m'/'\u001b[0m\u001b[0;34m+\u001b[0m\u001b[0mnames\u001b[0m\u001b[0;34m,\u001b[0m\u001b[0mimages\u001b[0m\u001b[0;34m)\u001b[0m \u001b[0;32mfor\u001b[0m \u001b[0mimages\u001b[0m \u001b[0;32min\u001b[0m \u001b[0mos\u001b[0m\u001b[0;34m.\u001b[0m\u001b[0mlistdir\u001b[0m\u001b[0;34m(\u001b[0m\u001b[0mimage_dir_basepath\u001b[0m\u001b[0;34m+\u001b[0m\u001b[0;34m'/'\u001b[0m\u001b[0;34m+\u001b[0m\u001b[0mnames\u001b[0m\u001b[0;34m)\u001b[0m\u001b[0;34m]\u001b[0m\u001b[0;34m\u001b[0m\u001b[0;34m\u001b[0m\u001b[0m\n\u001b[0;32m----> 3\u001b[0;31m     \u001b[0mpred\u001b[0m \u001b[0;34m=\u001b[0m \u001b[0minfer\u001b[0m\u001b[0;34m(\u001b[0m\u001b[0mle\u001b[0m\u001b[0;34m,\u001b[0m \u001b[0mclf\u001b[0m\u001b[0;34m,\u001b[0m \u001b[0mtest_filepaths\u001b[0m\u001b[0;34m[\u001b[0m\u001b[0;34m:\u001b[0m\u001b[0;36m10\u001b[0m\u001b[0;34m]\u001b[0m\u001b[0;34m)\u001b[0m\u001b[0;34m\u001b[0m\u001b[0;34m\u001b[0m\u001b[0m\n\u001b[0m\u001b[1;32m      4\u001b[0m     \u001b[0mcount\u001b[0m\u001b[0;34m=\u001b[0m\u001b[0;36m0\u001b[0m\u001b[0;34m\u001b[0m\u001b[0;34m\u001b[0m\u001b[0m\n\u001b[1;32m      5\u001b[0m     \u001b[0mprint\u001b[0m\u001b[0;34m(\u001b[0m\u001b[0mpred\u001b[0m\u001b[0;34m)\u001b[0m\u001b[0;34m\u001b[0m\u001b[0;34m\u001b[0m\u001b[0m\n",
      "\u001b[0;32m<ipython-input-70-4af49d0cc5c9>\u001b[0m in \u001b[0;36minfer\u001b[0;34m(le, clf, filepaths)\u001b[0m\n\u001b[1;32m      1\u001b[0m \u001b[0;32mdef\u001b[0m \u001b[0minfer\u001b[0m\u001b[0;34m(\u001b[0m\u001b[0mle\u001b[0m\u001b[0;34m,\u001b[0m \u001b[0mclf\u001b[0m\u001b[0;34m,\u001b[0m \u001b[0mfilepaths\u001b[0m\u001b[0;34m)\u001b[0m\u001b[0;34m:\u001b[0m\u001b[0;34m\u001b[0m\u001b[0;34m\u001b[0m\u001b[0m\n\u001b[0;32m----> 2\u001b[0;31m     \u001b[0membs\u001b[0m \u001b[0;34m=\u001b[0m \u001b[0mcalc_embs\u001b[0m\u001b[0;34m(\u001b[0m\u001b[0mfilepaths\u001b[0m\u001b[0;34m)\u001b[0m\u001b[0;34m\u001b[0m\u001b[0;34m\u001b[0m\u001b[0m\n\u001b[0m\u001b[1;32m      3\u001b[0m     \u001b[0mpred\u001b[0m \u001b[0;34m=\u001b[0m \u001b[0mle\u001b[0m\u001b[0;34m.\u001b[0m\u001b[0minverse_transform\u001b[0m\u001b[0;34m(\u001b[0m\u001b[0mclf\u001b[0m\u001b[0;34m.\u001b[0m\u001b[0mpredict\u001b[0m\u001b[0;34m(\u001b[0m\u001b[0membs\u001b[0m\u001b[0;34m)\u001b[0m\u001b[0;34m)\u001b[0m\u001b[0;34m\u001b[0m\u001b[0;34m\u001b[0m\u001b[0m\n\u001b[1;32m      4\u001b[0m     \u001b[0;32mreturn\u001b[0m \u001b[0mpred\u001b[0m\u001b[0;34m\u001b[0m\u001b[0;34m\u001b[0m\u001b[0m\n",
      "\u001b[0;32m<ipython-input-68-90af9733ccb1>\u001b[0m in \u001b[0;36mcalc_embs\u001b[0;34m(filepaths, margin, batch_size)\u001b[0m\n\u001b[1;32m      3\u001b[0m     \u001b[0mpd\u001b[0m \u001b[0;34m=\u001b[0m \u001b[0;34m[\u001b[0m\u001b[0;34m]\u001b[0m\u001b[0;34m\u001b[0m\u001b[0;34m\u001b[0m\u001b[0m\n\u001b[1;32m      4\u001b[0m     \u001b[0;32mfor\u001b[0m \u001b[0mstart\u001b[0m \u001b[0;32min\u001b[0m \u001b[0mrange\u001b[0m\u001b[0;34m(\u001b[0m\u001b[0;36m0\u001b[0m\u001b[0;34m,\u001b[0m \u001b[0mlen\u001b[0m\u001b[0;34m(\u001b[0m\u001b[0maligned_images\u001b[0m\u001b[0;34m)\u001b[0m\u001b[0;34m,\u001b[0m \u001b[0mbatch_size\u001b[0m\u001b[0;34m)\u001b[0m\u001b[0;34m:\u001b[0m\u001b[0;34m\u001b[0m\u001b[0;34m\u001b[0m\u001b[0m\n\u001b[0;32m----> 5\u001b[0;31m         \u001b[0mpd\u001b[0m\u001b[0;34m.\u001b[0m\u001b[0mappend\u001b[0m\u001b[0;34m(\u001b[0m\u001b[0mmodel\u001b[0m\u001b[0;34m.\u001b[0m\u001b[0mpredict_on_batch\u001b[0m\u001b[0;34m(\u001b[0m\u001b[0maligned_images\u001b[0m\u001b[0;34m[\u001b[0m\u001b[0mstart\u001b[0m\u001b[0;34m:\u001b[0m\u001b[0mstart\u001b[0m\u001b[0;34m+\u001b[0m\u001b[0mbatch_size\u001b[0m\u001b[0;34m]\u001b[0m\u001b[0;34m)\u001b[0m\u001b[0;34m)\u001b[0m\u001b[0;34m\u001b[0m\u001b[0;34m\u001b[0m\u001b[0m\n\u001b[0m\u001b[1;32m      6\u001b[0m     \u001b[0membs\u001b[0m \u001b[0;34m=\u001b[0m \u001b[0ml2_normalize\u001b[0m\u001b[0;34m(\u001b[0m\u001b[0mnp\u001b[0m\u001b[0;34m.\u001b[0m\u001b[0mconcatenate\u001b[0m\u001b[0;34m(\u001b[0m\u001b[0mpd\u001b[0m\u001b[0;34m)\u001b[0m\u001b[0;34m)\u001b[0m\u001b[0;34m\u001b[0m\u001b[0;34m\u001b[0m\u001b[0m\n\u001b[1;32m      7\u001b[0m \u001b[0;34m\u001b[0m\u001b[0m\n",
      "\u001b[0;32m~/activate/lib/python3.6/site-packages/keras/engine/training.py\u001b[0m in \u001b[0;36mpredict_on_batch\u001b[0;34m(self, x)\u001b[0m\n\u001b[1;32m   1504\u001b[0m             \u001b[0mins\u001b[0m \u001b[0;34m=\u001b[0m \u001b[0mx\u001b[0m\u001b[0;34m\u001b[0m\u001b[0;34m\u001b[0m\u001b[0m\n\u001b[1;32m   1505\u001b[0m         \u001b[0mself\u001b[0m\u001b[0;34m.\u001b[0m\u001b[0m_make_predict_function\u001b[0m\u001b[0;34m(\u001b[0m\u001b[0;34m)\u001b[0m\u001b[0;34m\u001b[0m\u001b[0;34m\u001b[0m\u001b[0m\n\u001b[0;32m-> 1506\u001b[0;31m         \u001b[0moutputs\u001b[0m \u001b[0;34m=\u001b[0m \u001b[0mself\u001b[0m\u001b[0;34m.\u001b[0m\u001b[0mpredict_function\u001b[0m\u001b[0;34m(\u001b[0m\u001b[0mins\u001b[0m\u001b[0;34m)\u001b[0m\u001b[0;34m\u001b[0m\u001b[0;34m\u001b[0m\u001b[0m\n\u001b[0m\u001b[1;32m   1507\u001b[0m         \u001b[0;32mreturn\u001b[0m \u001b[0munpack_singleton\u001b[0m\u001b[0;34m(\u001b[0m\u001b[0moutputs\u001b[0m\u001b[0;34m)\u001b[0m\u001b[0;34m\u001b[0m\u001b[0;34m\u001b[0m\u001b[0m\n\u001b[1;32m   1508\u001b[0m \u001b[0;34m\u001b[0m\u001b[0m\n",
      "\u001b[0;32m~/activate/lib/python3.6/site-packages/keras/backend/tensorflow_backend.py\u001b[0m in \u001b[0;36m__call__\u001b[0;34m(self, inputs)\u001b[0m\n\u001b[1;32m   2977\u001b[0m                     \u001b[0;32mreturn\u001b[0m \u001b[0mself\u001b[0m\u001b[0;34m.\u001b[0m\u001b[0m_legacy_call\u001b[0m\u001b[0;34m(\u001b[0m\u001b[0minputs\u001b[0m\u001b[0;34m)\u001b[0m\u001b[0;34m\u001b[0m\u001b[0;34m\u001b[0m\u001b[0m\n\u001b[1;32m   2978\u001b[0m \u001b[0;34m\u001b[0m\u001b[0m\n\u001b[0;32m-> 2979\u001b[0;31m             \u001b[0;32mreturn\u001b[0m \u001b[0mself\u001b[0m\u001b[0;34m.\u001b[0m\u001b[0m_call\u001b[0m\u001b[0;34m(\u001b[0m\u001b[0minputs\u001b[0m\u001b[0;34m)\u001b[0m\u001b[0;34m\u001b[0m\u001b[0;34m\u001b[0m\u001b[0m\n\u001b[0m\u001b[1;32m   2980\u001b[0m         \u001b[0;32melse\u001b[0m\u001b[0;34m:\u001b[0m\u001b[0;34m\u001b[0m\u001b[0;34m\u001b[0m\u001b[0m\n\u001b[1;32m   2981\u001b[0m             \u001b[0;32mif\u001b[0m \u001b[0mpy_any\u001b[0m\u001b[0;34m(\u001b[0m\u001b[0mis_tensor\u001b[0m\u001b[0;34m(\u001b[0m\u001b[0mx\u001b[0m\u001b[0;34m)\u001b[0m \u001b[0;32mfor\u001b[0m \u001b[0mx\u001b[0m \u001b[0;32min\u001b[0m \u001b[0minputs\u001b[0m\u001b[0;34m)\u001b[0m\u001b[0;34m:\u001b[0m\u001b[0;34m\u001b[0m\u001b[0;34m\u001b[0m\u001b[0m\n",
      "\u001b[0;32m~/activate/lib/python3.6/site-packages/keras/backend/tensorflow_backend.py\u001b[0m in \u001b[0;36m_call\u001b[0;34m(self, inputs)\u001b[0m\n\u001b[1;32m   2935\u001b[0m             \u001b[0mfetched\u001b[0m \u001b[0;34m=\u001b[0m \u001b[0mself\u001b[0m\u001b[0;34m.\u001b[0m\u001b[0m_callable_fn\u001b[0m\u001b[0;34m(\u001b[0m\u001b[0;34m*\u001b[0m\u001b[0marray_vals\u001b[0m\u001b[0;34m,\u001b[0m \u001b[0mrun_metadata\u001b[0m\u001b[0;34m=\u001b[0m\u001b[0mself\u001b[0m\u001b[0;34m.\u001b[0m\u001b[0mrun_metadata\u001b[0m\u001b[0;34m)\u001b[0m\u001b[0;34m\u001b[0m\u001b[0;34m\u001b[0m\u001b[0m\n\u001b[1;32m   2936\u001b[0m         \u001b[0;32melse\u001b[0m\u001b[0;34m:\u001b[0m\u001b[0;34m\u001b[0m\u001b[0;34m\u001b[0m\u001b[0m\n\u001b[0;32m-> 2937\u001b[0;31m             \u001b[0mfetched\u001b[0m \u001b[0;34m=\u001b[0m \u001b[0mself\u001b[0m\u001b[0;34m.\u001b[0m\u001b[0m_callable_fn\u001b[0m\u001b[0;34m(\u001b[0m\u001b[0;34m*\u001b[0m\u001b[0marray_vals\u001b[0m\u001b[0;34m)\u001b[0m\u001b[0;34m\u001b[0m\u001b[0;34m\u001b[0m\u001b[0m\n\u001b[0m\u001b[1;32m   2938\u001b[0m         \u001b[0;32mreturn\u001b[0m \u001b[0mfetched\u001b[0m\u001b[0;34m[\u001b[0m\u001b[0;34m:\u001b[0m\u001b[0mlen\u001b[0m\u001b[0;34m(\u001b[0m\u001b[0mself\u001b[0m\u001b[0;34m.\u001b[0m\u001b[0moutputs\u001b[0m\u001b[0;34m)\u001b[0m\u001b[0;34m]\u001b[0m\u001b[0;34m\u001b[0m\u001b[0;34m\u001b[0m\u001b[0m\n\u001b[1;32m   2939\u001b[0m \u001b[0;34m\u001b[0m\u001b[0m\n",
      "\u001b[0;32m~/activate/lib/python3.6/site-packages/tensorflow/python/client/session.py\u001b[0m in \u001b[0;36m__call__\u001b[0;34m(self, *args, **kwargs)\u001b[0m\n\u001b[1;32m   1456\u001b[0m         ret = tf_session.TF_SessionRunCallable(self._session._session,\n\u001b[1;32m   1457\u001b[0m                                                \u001b[0mself\u001b[0m\u001b[0;34m.\u001b[0m\u001b[0m_handle\u001b[0m\u001b[0;34m,\u001b[0m \u001b[0margs\u001b[0m\u001b[0;34m,\u001b[0m\u001b[0;34m\u001b[0m\u001b[0;34m\u001b[0m\u001b[0m\n\u001b[0;32m-> 1458\u001b[0;31m                                                run_metadata_ptr)\n\u001b[0m\u001b[1;32m   1459\u001b[0m         \u001b[0;32mif\u001b[0m \u001b[0mrun_metadata\u001b[0m\u001b[0;34m:\u001b[0m\u001b[0;34m\u001b[0m\u001b[0;34m\u001b[0m\u001b[0m\n\u001b[1;32m   1460\u001b[0m           \u001b[0mproto_data\u001b[0m \u001b[0;34m=\u001b[0m \u001b[0mtf_session\u001b[0m\u001b[0;34m.\u001b[0m\u001b[0mTF_GetBuffer\u001b[0m\u001b[0;34m(\u001b[0m\u001b[0mrun_metadata_ptr\u001b[0m\u001b[0;34m)\u001b[0m\u001b[0;34m\u001b[0m\u001b[0;34m\u001b[0m\u001b[0m\n",
      "\u001b[0;31mKeyboardInterrupt\u001b[0m: "
     ]
    }
   ],
   "source": [
    "for names in os.listdir(image_dir_basepath):\n",
    "    test_file_paths = [os.path.join(image_dir_basepath+'/'+names,images) for images in os.listdir(image_dir_basepath+'/'+names)]\n",
    "    pred = infer(le, clf, test_filepaths[:10])\n",
    "    count=0\n",
    "    print(pred)\n",
    "    for items in pred:\n",
    "        if items==names:\n",
    "            count+=1\n",
    "    print(names+':'+ str(count/len(pred)))\n",
    "\n",
    "    \n",
    "        "
   ]
  },
  {
   "cell_type": "code",
   "execution_count": null,
   "metadata": {
    "ExecuteTime": {
     "end_time": "2017-12-27T10:38:24.946891Z",
     "start_time": "2017-12-27T10:38:24.296236Z"
    }
   },
   "outputs": [],
   "source": []
  },
  {
   "cell_type": "code",
   "execution_count": null,
   "metadata": {
    "ExecuteTime": {
     "end_time": "2017-12-27T10:38:25.433407Z",
     "start_time": "2017-12-27T10:38:24.948442Z"
    }
   },
   "outputs": [],
   "source": [
    "fig, axes = plt.subplots(1, 3, figsize=(10, 5))\n",
    "\n",
    "for i in range(3):\n",
    "    axes[i].set_title('Prediction : '+str(pred[i]))\n",
    "    axes[i].imshow(imread(test_filepaths[i]))\n",
    "    axes[i].set_xticks([])\n",
    "    axes[i].set_yticks([])\n",
    "plt.show()"
   ]
  },
  {
   "cell_type": "code",
   "execution_count": null,
   "metadata": {},
   "outputs": [],
   "source": []
  },
  {
   "cell_type": "code",
   "execution_count": null,
   "metadata": {},
   "outputs": [],
   "source": []
  }
 ],
 "metadata": {
  "kernelspec": {
   "display_name": "Python 3",
   "language": "python",
   "name": "python3"
  },
  "language_info": {
   "codemirror_mode": {
    "name": "ipython",
    "version": 3
   },
   "file_extension": ".py",
   "mimetype": "text/x-python",
   "name": "python",
   "nbconvert_exporter": "python",
   "pygments_lexer": "ipython3",
   "version": "3.6.8"
  },
  "varInspector": {
   "cols": {
    "lenName": 16,
    "lenType": 16,
    "lenVar": 40
   },
   "kernels_config": {
    "python": {
     "delete_cmd_postfix": "",
     "delete_cmd_prefix": "del ",
     "library": "var_list.py",
     "varRefreshCmd": "print(var_dic_list())"
    },
    "r": {
     "delete_cmd_postfix": ") ",
     "delete_cmd_prefix": "rm(",
     "library": "var_list.r",
     "varRefreshCmd": "cat(var_dic_list()) "
    }
   },
   "types_to_exclude": [
    "module",
    "function",
    "builtin_function_or_method",
    "instance",
    "_Feature"
   ],
   "window_display": false
  }
 },
 "nbformat": 4,
 "nbformat_minor": 2
}
